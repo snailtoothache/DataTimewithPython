{
 "cells": [
  {
   "cell_type": "code",
   "execution_count": 1,
   "metadata": {},
   "outputs": [],
   "source": [
    "import pandas as pd\n",
    "import numpy as np"
   ]
  },
  {
   "cell_type": "code",
   "execution_count": 3,
   "metadata": {},
   "outputs": [
    {
     "data": {
      "text/html": [
       "<div>\n",
       "<style scoped>\n",
       "    .dataframe tbody tr th:only-of-type {\n",
       "        vertical-align: middle;\n",
       "    }\n",
       "\n",
       "    .dataframe tbody tr th {\n",
       "        vertical-align: top;\n",
       "    }\n",
       "\n",
       "    .dataframe thead th {\n",
       "        text-align: right;\n",
       "    }\n",
       "</style>\n",
       "<table border=\"1\" class=\"dataframe\">\n",
       "  <thead>\n",
       "    <tr style=\"text-align: right;\">\n",
       "      <th></th>\n",
       "      <th>用户ID</th>\n",
       "      <th>客户分类</th>\n",
       "      <th>区域</th>\n",
       "      <th>是否省会</th>\n",
       "      <th>7月销量</th>\n",
       "      <th>8月销量</th>\n",
       "      <th>9月销量</th>\n",
       "    </tr>\n",
       "  </thead>\n",
       "  <tbody>\n",
       "    <tr>\n",
       "      <th>0</th>\n",
       "      <td>59224</td>\n",
       "      <td>A类</td>\n",
       "      <td>一线城市</td>\n",
       "      <td>是</td>\n",
       "      <td>6</td>\n",
       "      <td>20</td>\n",
       "      <td>0</td>\n",
       "    </tr>\n",
       "    <tr>\n",
       "      <th>1</th>\n",
       "      <td>55295</td>\n",
       "      <td>B类</td>\n",
       "      <td>三线城市</td>\n",
       "      <td>否</td>\n",
       "      <td>37</td>\n",
       "      <td>27</td>\n",
       "      <td>35</td>\n",
       "    </tr>\n",
       "    <tr>\n",
       "      <th>2</th>\n",
       "      <td>46035</td>\n",
       "      <td>A类</td>\n",
       "      <td>二线城市</td>\n",
       "      <td>是</td>\n",
       "      <td>8</td>\n",
       "      <td>1</td>\n",
       "      <td>8</td>\n",
       "    </tr>\n",
       "    <tr>\n",
       "      <th>3</th>\n",
       "      <td>2459</td>\n",
       "      <td>C类</td>\n",
       "      <td>一线城市</td>\n",
       "      <td>是</td>\n",
       "      <td>7</td>\n",
       "      <td>8</td>\n",
       "      <td>14</td>\n",
       "    </tr>\n",
       "    <tr>\n",
       "      <th>4</th>\n",
       "      <td>22179</td>\n",
       "      <td>B类</td>\n",
       "      <td>三线城市</td>\n",
       "      <td>否</td>\n",
       "      <td>9</td>\n",
       "      <td>12</td>\n",
       "      <td>4</td>\n",
       "    </tr>\n",
       "    <tr>\n",
       "      <th>5</th>\n",
       "      <td>22557</td>\n",
       "      <td>A类</td>\n",
       "      <td>二线城市</td>\n",
       "      <td>是</td>\n",
       "      <td>42</td>\n",
       "      <td>20</td>\n",
       "      <td>55</td>\n",
       "    </tr>\n",
       "  </tbody>\n",
       "</table>\n",
       "</div>"
      ],
      "text/plain": [
       "    用户ID 客户分类    区域 是否省会  7月销量  8月销量  9月销量\n",
       "0  59224   A类  一线城市    是     6    20     0\n",
       "1  55295   B类  三线城市    否    37    27    35\n",
       "2  46035   A类  二线城市    是     8     1     8\n",
       "3   2459   C类  一线城市    是     7     8    14\n",
       "4  22179   B类  三线城市    否     9    12     4\n",
       "5  22557   A类  二线城市    是    42    20    55"
      ]
     },
     "execution_count": 3,
     "metadata": {},
     "output_type": "execute_result"
    }
   ],
   "source": [
    "# 12.1.1 设置文件导出路径\n",
    "# 利用df.to_excel()方法导出表格\n",
    "df = pd.DataFrame([['59224','A类','一线城市','是',6,20,0],\n",
    "                    ['55295','B类','三线城市','否',37,27,35],\n",
    "                    ['46035','A类','二线城市','是',8,1,8],\n",
    "                    ['2459','C类','一线城市','是',7,8,14],\n",
    "                    ['22179','B类','三线城市','否',9,12,4],\n",
    "                    ['22557','A类','二线城市','是',42,20,55]],\n",
    "                  columns = ('用户ID','客户分类','区域','是否省会','7月销量','8月销量','9月销量'))\n",
    "df"
   ]
  },
  {
   "cell_type": "code",
   "execution_count": 24,
   "metadata": {},
   "outputs": [],
   "source": [
    "# 真的有哎，成功了\n",
    "df.to_excel(excel_writer=r\"/Users/caiqing/Documents/我的PYTHON/张俊红《对比Excel,轻松学习Python数据分析》/第12章 结果导出路径/test.xlsx\")"
   ]
  },
  {
   "cell_type": "code",
   "execution_count": 25,
   "metadata": {},
   "outputs": [],
   "source": [
    "# 12.1.2 设置Sheet名称\n",
    "# 修改sheet_name参数可修改sheet名字\n",
    "df.to_excel(excel_writer=r\"/Users/caiqing/Documents/我的PYTHON/张俊红《对比Excel,轻松学习Python数据分析》/第12章 结果导出路径/test.xlsx\",sheet_name='测试文档')"
   ]
  },
  {
   "cell_type": "code",
   "execution_count": 26,
   "metadata": {},
   "outputs": [],
   "source": [
    "# 12.1.3 设置索引\n",
    "# 设置参数index=False可以在导出时把默认索引去掉\n",
    "df.to_excel(excel_writer=r\"/Users/caiqing/Documents/我的PYTHON/张俊红《对比Excel,轻松学习Python数据分析》/第12章 结果导出路径/test.xlsx\",sheet_name='测试文档',index=False)"
   ]
  },
  {
   "cell_type": "code",
   "execution_count": 27,
   "metadata": {},
   "outputs": [],
   "source": [
    "# 12.1.4 设置要导出的列\n",
    "# columns()和columns[]经测试都行\n",
    "df.to_excel(excel_writer=r\"/Users/caiqing/Documents/我的PYTHON/张俊红《对比Excel,轻松学习Python数据分析》/第12章 结果导出路径/test.xlsx\",sheet_name='测试文档',index=False,\n",
    "           columns=['用户ID','7月销量','8月销量','9月销量'])"
   ]
  },
  {
   "cell_type": "code",
   "execution_count": 28,
   "metadata": {},
   "outputs": [],
   "source": [
    "# 12.1.5 设置编码格式\n",
    "# 设置参数encoding=utf-8\n",
    "df.to_excel(excel_writer=r\"/Users/caiqing/Documents/我的PYTHON/张俊红《对比Excel,轻松学习Python数据分析》/第12章 结果导出路径/test.xlsx\",sheet_name='测试文档',index=False,encoding='utf-8')"
   ]
  },
  {
   "cell_type": "code",
   "execution_count": 29,
   "metadata": {},
   "outputs": [],
   "source": [
    "# 12.1.6 缺失值处理\n",
    "# 设置参数na_rep的值对缺失值进行填充\n",
    "# 缺失值填充为0\n",
    "df.to_excel(excel_writer=r\"/Users/caiqing/Documents/我的PYTHON/张俊红《对比Excel,轻松学习Python数据分析》/第12章 结果导出路径/test.xlsx\",\n",
    "            sheet_name='测试文档',index=False,encoding='utf-8',na_rep=0)"
   ]
  },
  {
   "cell_type": "code",
   "execution_count": 13,
   "metadata": {},
   "outputs": [
    {
     "data": {
      "text/plain": [
       "inf"
      ]
     },
     "execution_count": 13,
     "metadata": {},
     "output_type": "execute_result"
    }
   ],
   "source": [
    "# 12.1.7 无穷值处理\n",
    "# 无穷值（inf)和缺失值（Nan)都是异常数据，无穷值的存在会导致计算报错，故需要预处理\n",
    "# 生成正无穷值和负无穷值\n",
    "float('inf')"
   ]
  },
  {
   "cell_type": "code",
   "execution_count": 14,
   "metadata": {},
   "outputs": [
    {
     "data": {
      "text/plain": [
       "-inf"
      ]
     },
     "execution_count": 14,
     "metadata": {},
     "output_type": "execute_result"
    }
   ],
   "source": [
    "float('-inf')"
   ]
  },
  {
   "cell_type": "code",
   "execution_count": 22,
   "metadata": {},
   "outputs": [
    {
     "data": {
      "text/html": [
       "<div>\n",
       "<style scoped>\n",
       "    .dataframe tbody tr th:only-of-type {\n",
       "        vertical-align: middle;\n",
       "    }\n",
       "\n",
       "    .dataframe tbody tr th {\n",
       "        vertical-align: top;\n",
       "    }\n",
       "\n",
       "    .dataframe thead th {\n",
       "        text-align: right;\n",
       "    }\n",
       "</style>\n",
       "<table border=\"1\" class=\"dataframe\">\n",
       "  <thead>\n",
       "    <tr style=\"text-align: right;\">\n",
       "      <th></th>\n",
       "      <th>用户ID</th>\n",
       "      <th>客户分类</th>\n",
       "      <th>区域</th>\n",
       "      <th>是否省会</th>\n",
       "      <th>7月销量</th>\n",
       "      <th>8月销量</th>\n",
       "      <th>9月销量</th>\n",
       "    </tr>\n",
       "  </thead>\n",
       "  <tbody>\n",
       "    <tr>\n",
       "      <th>0</th>\n",
       "      <td>59224</td>\n",
       "      <td>A类</td>\n",
       "      <td>一线城市</td>\n",
       "      <td>是</td>\n",
       "      <td>6.0</td>\n",
       "      <td>20</td>\n",
       "      <td>0</td>\n",
       "    </tr>\n",
       "    <tr>\n",
       "      <th>1</th>\n",
       "      <td>55295</td>\n",
       "      <td>B类</td>\n",
       "      <td>三线城市</td>\n",
       "      <td>否</td>\n",
       "      <td>inf</td>\n",
       "      <td>27</td>\n",
       "      <td>35</td>\n",
       "    </tr>\n",
       "    <tr>\n",
       "      <th>2</th>\n",
       "      <td>46035</td>\n",
       "      <td>A类</td>\n",
       "      <td>二线城市</td>\n",
       "      <td>是</td>\n",
       "      <td>8.0</td>\n",
       "      <td>1</td>\n",
       "      <td>8</td>\n",
       "    </tr>\n",
       "    <tr>\n",
       "      <th>3</th>\n",
       "      <td>2459</td>\n",
       "      <td>C类</td>\n",
       "      <td>一线城市</td>\n",
       "      <td>是</td>\n",
       "      <td>7.0</td>\n",
       "      <td>8</td>\n",
       "      <td>14</td>\n",
       "    </tr>\n",
       "    <tr>\n",
       "      <th>4</th>\n",
       "      <td>22179</td>\n",
       "      <td>B类</td>\n",
       "      <td>三线城市</td>\n",
       "      <td>否</td>\n",
       "      <td>9.0</td>\n",
       "      <td>12</td>\n",
       "      <td>4</td>\n",
       "    </tr>\n",
       "    <tr>\n",
       "      <th>5</th>\n",
       "      <td>22557</td>\n",
       "      <td>A类</td>\n",
       "      <td>二线城市</td>\n",
       "      <td>是</td>\n",
       "      <td>42.0</td>\n",
       "      <td>20</td>\n",
       "      <td>55</td>\n",
       "    </tr>\n",
       "  </tbody>\n",
       "</table>\n",
       "</div>"
      ],
      "text/plain": [
       "    用户ID 客户分类    区域 是否省会  7月销量  8月销量  9月销量\n",
       "0  59224   A类  一线城市    是   6.0    20     0\n",
       "1  55295   B类  三线城市    否   inf    27    35\n",
       "2  46035   A类  二线城市    是   8.0     1     8\n",
       "3   2459   C类  一线城市    是   7.0     8    14\n",
       "4  22179   B类  三线城市    否   9.0    12     4\n",
       "5  22557   A类  二线城市    是  42.0    20    55"
      ]
     },
     "execution_count": 22,
     "metadata": {},
     "output_type": "execute_result"
    }
   ],
   "source": [
    "# 把inf值替换掉，设置参数inf_rep的值\n",
    "df1 = pd.DataFrame([['59224','A类','一线城市','是',6,20,0],\n",
    "                    ['55295','B类','三线城市','否',float('inf'),27,35],\n",
    "                    ['46035','A类','二线城市','是',8,1,8],\n",
    "                    ['2459','C类','一线城市','是',7,8,14],\n",
    "                    ['22179','B类','三线城市','否',9,12,4],\n",
    "                    ['22557','A类','二线城市','是',42,20,55]],\n",
    "                  columns = ('用户ID','客户分类','区域','是否省会','7月销量','8月销量','9月销量'))\n",
    "df1"
   ]
  },
  {
   "cell_type": "code",
   "execution_count": 23,
   "metadata": {},
   "outputs": [],
   "source": [
    "# 把inf_rep的值填充为0\n",
    "df1.to_excel(excel_writer=r\"/Users/caiqing/Documents/我的PYTHON/张俊红《对比Excel,轻松学习Python数据分析》/第12章 结果导出路径/test.xlsx\",\n",
    "            sheet_name='测试文档2',index=False,encoding='utf-8',na_rep=0,inf_rep=0)"
   ]
  },
  {
   "cell_type": "code",
   "execution_count": null,
   "metadata": {},
   "outputs": [],
   "source": []
  }
 ],
 "metadata": {
  "kernelspec": {
   "display_name": "Python 3",
   "language": "python",
   "name": "python3"
  },
  "language_info": {
   "codemirror_mode": {
    "name": "ipython",
    "version": 3
   },
   "file_extension": ".py",
   "mimetype": "text/x-python",
   "name": "python",
   "nbconvert_exporter": "python",
   "pygments_lexer": "ipython3",
   "version": "3.7.3"
  }
 },
 "nbformat": 4,
 "nbformat_minor": 2
}

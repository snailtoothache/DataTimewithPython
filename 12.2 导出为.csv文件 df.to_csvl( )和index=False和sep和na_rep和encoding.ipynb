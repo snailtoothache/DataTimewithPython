{
 "cells": [
  {
   "cell_type": "code",
   "execution_count": 1,
   "metadata": {},
   "outputs": [],
   "source": [
    "import pandas as pd\n",
    "import numpy as np"
   ]
  },
  {
   "cell_type": "code",
   "execution_count": 2,
   "metadata": {},
   "outputs": [
    {
     "data": {
      "text/html": [
       "<div>\n",
       "<style scoped>\n",
       "    .dataframe tbody tr th:only-of-type {\n",
       "        vertical-align: middle;\n",
       "    }\n",
       "\n",
       "    .dataframe tbody tr th {\n",
       "        vertical-align: top;\n",
       "    }\n",
       "\n",
       "    .dataframe thead th {\n",
       "        text-align: right;\n",
       "    }\n",
       "</style>\n",
       "<table border=\"1\" class=\"dataframe\">\n",
       "  <thead>\n",
       "    <tr style=\"text-align: right;\">\n",
       "      <th></th>\n",
       "      <th>用户ID</th>\n",
       "      <th>客户分类</th>\n",
       "      <th>区域</th>\n",
       "      <th>是否省会</th>\n",
       "      <th>7月销量</th>\n",
       "      <th>8月销量</th>\n",
       "      <th>9月销量</th>\n",
       "    </tr>\n",
       "  </thead>\n",
       "  <tbody>\n",
       "    <tr>\n",
       "      <th>0</th>\n",
       "      <td>59224</td>\n",
       "      <td>A类</td>\n",
       "      <td>一线城市</td>\n",
       "      <td>是</td>\n",
       "      <td>6</td>\n",
       "      <td>20</td>\n",
       "      <td>0</td>\n",
       "    </tr>\n",
       "    <tr>\n",
       "      <th>1</th>\n",
       "      <td>55295</td>\n",
       "      <td>B类</td>\n",
       "      <td>三线城市</td>\n",
       "      <td>否</td>\n",
       "      <td>37</td>\n",
       "      <td>27</td>\n",
       "      <td>35</td>\n",
       "    </tr>\n",
       "    <tr>\n",
       "      <th>2</th>\n",
       "      <td>46035</td>\n",
       "      <td>A类</td>\n",
       "      <td>二线城市</td>\n",
       "      <td>是</td>\n",
       "      <td>8</td>\n",
       "      <td>1</td>\n",
       "      <td>8</td>\n",
       "    </tr>\n",
       "    <tr>\n",
       "      <th>3</th>\n",
       "      <td>2459</td>\n",
       "      <td>C类</td>\n",
       "      <td>一线城市</td>\n",
       "      <td>是</td>\n",
       "      <td>7</td>\n",
       "      <td>8</td>\n",
       "      <td>14</td>\n",
       "    </tr>\n",
       "    <tr>\n",
       "      <th>4</th>\n",
       "      <td>22179</td>\n",
       "      <td>B类</td>\n",
       "      <td>三线城市</td>\n",
       "      <td>否</td>\n",
       "      <td>9</td>\n",
       "      <td>12</td>\n",
       "      <td>4</td>\n",
       "    </tr>\n",
       "    <tr>\n",
       "      <th>5</th>\n",
       "      <td>22557</td>\n",
       "      <td>A类</td>\n",
       "      <td>二线城市</td>\n",
       "      <td>是</td>\n",
       "      <td>42</td>\n",
       "      <td>20</td>\n",
       "      <td>55</td>\n",
       "    </tr>\n",
       "  </tbody>\n",
       "</table>\n",
       "</div>"
      ],
      "text/plain": [
       "    用户ID 客户分类    区域 是否省会  7月销量  8月销量  9月销量\n",
       "0  59224   A类  一线城市    是     6    20     0\n",
       "1  55295   B类  三线城市    否    37    27    35\n",
       "2  46035   A类  二线城市    是     8     1     8\n",
       "3   2459   C类  一线城市    是     7     8    14\n",
       "4  22179   B类  三线城市    否     9    12     4\n",
       "5  22557   A类  二线城市    是    42    20    55"
      ]
     },
     "execution_count": 2,
     "metadata": {},
     "output_type": "execute_result"
    }
   ],
   "source": [
    "# 12.2.1 设置文件导出路径\n",
    "# 利用df.to_csv()方法导出文件\n",
    "df = pd.DataFrame([['59224','A类','一线城市','是',6,20,0],\n",
    "                    ['55295','B类','三线城市','否',37,27,35],\n",
    "                    ['46035','A类','二线城市','是',8,1,8],\n",
    "                    ['2459','C类','一线城市','是',7,8,14],\n",
    "                    ['22179','B类','三线城市','否',9,12,4],\n",
    "                    ['22557','A类','二线城市','是',42,20,55]],\n",
    "                  columns = ('用户ID','客户分类','区域','是否省会','7月销量','8月销量','9月销量'))\n",
    "df"
   ]
  },
  {
   "cell_type": "code",
   "execution_count": 10,
   "metadata": {},
   "outputs": [],
   "source": [
    "# .csv文件的导出路径需通过path_or_buf参数来设置\n",
    "df.to_csv(path_or_buf=r\"/Users/caiqing/Documents/我的PYTHON/张俊红《对比Excel,轻松学习Python数据分析》/第12章 结果导出路径/test.csv\")"
   ]
  },
  {
   "cell_type": "code",
   "execution_count": 11,
   "metadata": {},
   "outputs": [],
   "source": [
    "# 12.2.1 设置索引\n",
    "df.to_csv(path_or_buf=r\"/Users/caiqing/Documents/我的PYTHON/张俊红《对比Excel,轻松学习Python数据分析》/第12章 结果导出路径/test.csv\",index=False)"
   ]
  },
  {
   "cell_type": "code",
   "execution_count": 12,
   "metadata": {},
   "outputs": [],
   "source": [
    "# 12.2.3 设置要导出的列\n",
    "df.to_csv(path_or_buf=r\"/Users/caiqing/Documents/我的PYTHON/张俊红《对比Excel,轻松学习Python数据分析》/第12章 结果导出路径/test.csv\",\n",
    "          index=False,\n",
    "         columns=('用户ID','7月销量','8月销量','9月销量'))"
   ]
  },
  {
   "cell_type": "code",
   "execution_count": 13,
   "metadata": {},
   "outputs": [],
   "source": [
    "# 12.2.4 设置分隔符号\n",
    "# 利用参数sep来指明要用的分隔符号\n",
    "# 常用的分隔符号有逗号、空格、制表符、分号等\n",
    "df.to_csv(path_or_buf=r\"/Users/caiqing/Documents/我的PYTHON/张俊红《对比Excel,轻松学习Python数据分析》/第12章 结果导出路径/test.csv\",\n",
    "          index=False,\n",
    "         columns=('用户ID','7月销量','8月销量','9月销量'),\n",
    "         sep=',')"
   ]
  },
  {
   "cell_type": "code",
   "execution_count": 14,
   "metadata": {},
   "outputs": [],
   "source": [
    "# 12.2.5 缺失值处理\n",
    "# 设置参数na_rep的值对缺失值进行填充\n",
    "# 缺失值填充为0\n",
    "df.to_csv(path_or_buf=r\"/Users/caiqing/Documents/我的PYTHON/张俊红《对比Excel,轻松学习Python数据分析》/第12章 结果导出路径/test.csv\",\n",
    "          index=False,\n",
    "         columns=('用户ID','7月销量','8月销量','9月销量'),\n",
    "         sep=',',\n",
    "         na_rep=0)"
   ]
  },
  {
   "cell_type": "code",
   "execution_count": 15,
   "metadata": {},
   "outputs": [],
   "source": [
    "# 12.2.6 设置编码格式\n",
    "# 一般使用utf-8-sig或者gbk编码\n",
    "df.to_csv(path_or_buf=r\"/Users/caiqing/Documents/我的PYTHON/张俊红《对比Excel,轻松学习Python数据分析》/第12章 结果导出路径/test.csv\",\n",
    "          index=False,\n",
    "         columns=('用户ID','7月销量','8月销量','9月销量'),\n",
    "         sep=',',\n",
    "         na_rep=0,\n",
    "         encoding='utf-8-sig')"
   ]
  },
  {
   "cell_type": "code",
   "execution_count": null,
   "metadata": {},
   "outputs": [],
   "source": []
  }
 ],
 "metadata": {
  "kernelspec": {
   "display_name": "Python 3",
   "language": "python",
   "name": "python3"
  },
  "language_info": {
   "codemirror_mode": {
    "name": "ipython",
    "version": 3
   },
   "file_extension": ".py",
   "mimetype": "text/x-python",
   "name": "python",
   "nbconvert_exporter": "python",
   "pygments_lexer": "ipython3",
   "version": "3.7.3"
  }
 },
 "nbformat": 4,
 "nbformat_minor": 2
}

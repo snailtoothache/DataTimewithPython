{
 "cells": [
  {
   "cell_type": "code",
   "execution_count": 1,
   "metadata": {},
   "outputs": [],
   "source": [
    "import pandas as pd\n",
    "import numpy as np"
   ]
  },
  {
   "cell_type": "code",
   "execution_count": 2,
   "metadata": {},
   "outputs": [],
   "source": [
    "# 13.3 图表的基本组成元素\n",
    "# 画布\n",
    "# 坐标系包括直角坐标系、球坐标系、极坐标系，其中直角坐标系最为常用\n",
    "# 坐标轴包括x轴和y轴\n",
    "# 坐标轴标题\n",
    "# 图表标题\n",
    "# 数据标签\n",
    "# 数据表\n",
    "# 网格线\n",
    "# 图例\n",
    "# 误差线主要用来显示坐标轴上每个点的不确定程度，一般用标准差表示，即一个点的误差为改点的实际值加减标准差"
   ]
  },
  {
   "cell_type": "code",
   "execution_count": null,
   "metadata": {},
   "outputs": [],
   "source": []
  }
 ],
 "metadata": {
  "kernelspec": {
   "display_name": "Python 3",
   "language": "python",
   "name": "python3"
  },
  "language_info": {
   "codemirror_mode": {
    "name": "ipython",
    "version": 3
   },
   "file_extension": ".py",
   "mimetype": "text/x-python",
   "name": "python",
   "nbconvert_exporter": "python",
   "pygments_lexer": "ipython3",
   "version": "3.7.3"
  }
 },
 "nbformat": 4,
 "nbformat_minor": 2
}

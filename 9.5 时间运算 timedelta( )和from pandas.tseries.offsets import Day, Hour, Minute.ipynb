{
 "cells": [
  {
   "cell_type": "code",
   "execution_count": 1,
   "metadata": {},
   "outputs": [],
   "source": [
    "import pandas as pd\n",
    "import numpy as np\n",
    "from datetime import datetime\n",
    "from dateutil.parser import parse"
   ]
  },
  {
   "cell_type": "code",
   "execution_count": 2,
   "metadata": {},
   "outputs": [],
   "source": [
    "# 9.5.1 两个时间之差\n",
    "# Excel 两日期直接做差会得到一个带小数点的天数\n",
    "# Excel 如果想看两日期之间差多少天，直接取整数部分即可\n",
    "# Excel 如果想看两日期之间差多少小时、分钟，则需要对小数部分进行计算（接下）\n",
    "# （接上）小数部分乘24得到的结果中的整数部分就是小时数，它的小数部分再乘60就是分钟数"
   ]
  },
  {
   "cell_type": "code",
   "execution_count": 3,
   "metadata": {},
   "outputs": [],
   "source": [
    "# Excel\n",
    "# date_A = 2018/5/18 20:32\n",
    "# date_B = 2018/5/21 19:50\n",
    "# date_B - date_A = 2.970833\n",
    "# day = 2\n",
    "# hour = int(0.970833*24)=int(23.299992)=23\n",
    "# minute = int(0.299992*60) = int(17.99952) =17"
   ]
  },
  {
   "cell_type": "code",
   "execution_count": 4,
   "metadata": {},
   "outputs": [
    {
     "data": {
      "text/plain": [
       "datetime.timedelta(days=2, seconds=83880)"
      ]
     },
     "execution_count": 4,
     "metadata": {},
     "output_type": "execute_result"
    }
   ],
   "source": [
    "# Python 中两个时间做差会返回一个timedelta对象，该对象中包含天数、秒、微妙秒三个等级，如果要获取小时、分钟，则需要进行换算\n",
    "# 差值为2天83880秒\n",
    "cha = datetime(2018,5,21,19,50) - datetime(2018,5,18,20,32)\n",
    "cha"
   ]
  },
  {
   "cell_type": "code",
   "execution_count": 5,
   "metadata": {},
   "outputs": [
    {
     "data": {
      "text/plain": [
       "2"
      ]
     },
     "execution_count": 5,
     "metadata": {},
     "output_type": "execute_result"
    }
   ],
   "source": [
    "# 返回天的时间差\n",
    "cha.days"
   ]
  },
  {
   "cell_type": "code",
   "execution_count": 6,
   "metadata": {},
   "outputs": [
    {
     "data": {
      "text/plain": [
       "83880"
      ]
     },
     "execution_count": 6,
     "metadata": {},
     "output_type": "execute_result"
    }
   ],
   "source": [
    "# 返回秒的时间差\n",
    "cha.seconds"
   ]
  },
  {
   "cell_type": "code",
   "execution_count": 7,
   "metadata": {},
   "outputs": [
    {
     "data": {
      "text/plain": [
       "23.3"
      ]
     },
     "execution_count": 7,
     "metadata": {},
     "output_type": "execute_result"
    }
   ],
   "source": [
    "# 换算成小时的时间差\n",
    "cha.seconds/3600"
   ]
  },
  {
   "cell_type": "code",
   "execution_count": 8,
   "metadata": {},
   "outputs": [],
   "source": [
    "# 9.5.2 时间偏移\n",
    "# 时间偏移是指给时间往前推或往后推一段时间，即加或减一段时间\n",
    "# Excel 由于excel中的运算单位都是天，则需要把小时或分钟换算成对应的天"
   ]
  },
  {
   "cell_type": "code",
   "execution_count": 9,
   "metadata": {},
   "outputs": [],
   "source": [
    "# Excel\n",
    "# 往后推1天\n",
    "# date1 = 2018/5/18 20:32+1 = 2018/5/19 20:32\n",
    "# 往后推3个小时\n",
    "# date2 = 2018/5/18 20:32+0.125 = 2018/5/19 23:32\n",
    "# 往后推60分钟\n",
    "# date3 = 2018/5/18 20:32+0.04666667 = 2018/5/19 21:32\n",
    "# 往前推1天\n",
    "# date4 = 2018/5/18 20:32-1 = 2018/5/17 20:32\n",
    "# 往前推3个小时\n",
    "# date5 = 2018/5/18 20:32-0.125 = 2018/5/19 17:32\n",
    "# 往前推60分钟\n",
    "# date6 = 2018/5/18 20:32-0.04666667 = 2018/5/19 19:32"
   ]
  },
  {
   "cell_type": "code",
   "execution_count": 10,
   "metadata": {},
   "outputs": [],
   "source": [
    "# Python 借助timedelta和date_offset"
   ]
  },
  {
   "cell_type": "code",
   "execution_count": 13,
   "metadata": {},
   "outputs": [],
   "source": [
    "# （1）timedelta()只支持天、秒、微秒单位的时间运算\n",
    "# 如果是其他单位的运算，则需要换算乘以上三种单位中的一种方可进行偏移\n",
    "from datetime import timedelta\n",
    "date = datetime(2018,5,18,20,32)"
   ]
  },
  {
   "cell_type": "code",
   "execution_count": 12,
   "metadata": {},
   "outputs": [
    {
     "data": {
      "text/plain": [
       "datetime.datetime(2018, 5, 19, 20, 32)"
      ]
     },
     "execution_count": 12,
     "metadata": {},
     "output_type": "execute_result"
    }
   ],
   "source": [
    "# 往后推1天\n",
    "date + timedelta(days =1)"
   ]
  },
  {
   "cell_type": "code",
   "execution_count": 14,
   "metadata": {},
   "outputs": [
    {
     "data": {
      "text/plain": [
       "datetime.datetime(2018, 5, 18, 20, 33)"
      ]
     },
     "execution_count": 14,
     "metadata": {},
     "output_type": "execute_result"
    }
   ],
   "source": [
    "# 往后推60秒\n",
    "date + timedelta(seconds = 60)"
   ]
  },
  {
   "cell_type": "code",
   "execution_count": 16,
   "metadata": {},
   "outputs": [
    {
     "data": {
      "text/plain": [
       "datetime.datetime(2018, 5, 17, 20, 32)"
      ]
     },
     "execution_count": 16,
     "metadata": {},
     "output_type": "execute_result"
    }
   ],
   "source": [
    "# 往前推1天\n",
    "date - timedelta(days = 1)"
   ]
  },
  {
   "cell_type": "code",
   "execution_count": 17,
   "metadata": {},
   "outputs": [
    {
     "data": {
      "text/plain": [
       "datetime.datetime(2018, 5, 18, 20, 31)"
      ]
     },
     "execution_count": 17,
     "metadata": {},
     "output_type": "execute_result"
    }
   ],
   "source": [
    "# 往前推60秒\n",
    "date - timedelta(seconds =60)"
   ]
  },
  {
   "cell_type": "code",
   "execution_count": 18,
   "metadata": {},
   "outputs": [],
   "source": [
    "# （2）date offset方法可以直接实现天、小时、分钟单位的时间偏移，不需要换算，相比timedelta要方便一些\n",
    "from pandas.tseries.offsets import Day, Hour, Minute\n",
    "date = datetime(2018,5,18,20,32)"
   ]
  },
  {
   "cell_type": "code",
   "execution_count": 19,
   "metadata": {},
   "outputs": [
    {
     "data": {
      "text/plain": [
       "Timestamp('2018-05-19 20:32:00')"
      ]
     },
     "execution_count": 19,
     "metadata": {},
     "output_type": "execute_result"
    }
   ],
   "source": [
    "# 往后推1天\n",
    "date + Day(1)"
   ]
  },
  {
   "cell_type": "code",
   "execution_count": 20,
   "metadata": {},
   "outputs": [
    {
     "data": {
      "text/plain": [
       "Timestamp('2018-05-18 21:32:00')"
      ]
     },
     "execution_count": 20,
     "metadata": {},
     "output_type": "execute_result"
    }
   ],
   "source": [
    "# 往后推1小时\n",
    "date + Hour(1)"
   ]
  },
  {
   "cell_type": "code",
   "execution_count": 22,
   "metadata": {},
   "outputs": [
    {
     "data": {
      "text/plain": [
       "Timestamp('2018-05-18 20:42:00')"
      ]
     },
     "execution_count": 22,
     "metadata": {},
     "output_type": "execute_result"
    }
   ],
   "source": [
    "# 往后推10分钟\n",
    "date + Minute(10)"
   ]
  },
  {
   "cell_type": "code",
   "execution_count": 23,
   "metadata": {},
   "outputs": [
    {
     "data": {
      "text/plain": [
       "Timestamp('2018-05-17 20:32:00')"
      ]
     },
     "execution_count": 23,
     "metadata": {},
     "output_type": "execute_result"
    }
   ],
   "source": [
    "# 往前推1天\n",
    "date - Day(1)"
   ]
  },
  {
   "cell_type": "code",
   "execution_count": 24,
   "metadata": {},
   "outputs": [
    {
     "data": {
      "text/plain": [
       "Timestamp('2018-05-18 19:32:00')"
      ]
     },
     "execution_count": 24,
     "metadata": {},
     "output_type": "execute_result"
    }
   ],
   "source": [
    "# 往前推1小时\n",
    "date - Hour(1)"
   ]
  },
  {
   "cell_type": "code",
   "execution_count": 25,
   "metadata": {},
   "outputs": [
    {
     "data": {
      "text/plain": [
       "Timestamp('2018-05-18 20:22:00')"
      ]
     },
     "execution_count": 25,
     "metadata": {},
     "output_type": "execute_result"
    }
   ],
   "source": [
    "# 往前推10分钟\n",
    "date - Minute(10)"
   ]
  },
  {
   "cell_type": "code",
   "execution_count": null,
   "metadata": {},
   "outputs": [],
   "source": []
  }
 ],
 "metadata": {
  "kernelspec": {
   "display_name": "Python 3",
   "language": "python",
   "name": "python3"
  },
  "language_info": {
   "codemirror_mode": {
    "name": "ipython",
    "version": 3
   },
   "file_extension": ".py",
   "mimetype": "text/x-python",
   "name": "python",
   "nbconvert_exporter": "python",
   "pygments_lexer": "ipython3",
   "version": "3.7.3"
  }
 },
 "nbformat": 4,
 "nbformat_minor": 2
}

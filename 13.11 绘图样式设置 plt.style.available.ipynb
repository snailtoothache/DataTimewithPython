{
 "cells": [
  {
   "cell_type": "code",
   "execution_count": 1,
   "metadata": {},
   "outputs": [],
   "source": [
    "import matplotlib.pyplot as plt\n",
    "%matplotlib inline\n",
    "plt.rcParams['font.sans-serif']='SimHei'\n",
    "plt.rcParams['axes.unicode_minus']=False\n",
    "%config InlineBackend.figure_format='svg'"
   ]
  },
  {
   "cell_type": "code",
   "execution_count": 2,
   "metadata": {},
   "outputs": [],
   "source": [
    "# 13.11 绘图样式设置\n",
    "# matplotlib库支持调用其他样式\n",
    "# 使用plt.style.available即可查看matplotlib库支持所有样式"
   ]
  },
  {
   "cell_type": "code",
   "execution_count": null,
   "metadata": {},
   "outputs": [],
   "source": [
    "plt.style.available\n",
    "['bmh',\n",
    "'classic',\n",
    "'dark_background',\n",
    " 'fast',\n",
    " 'fivethirtyeight',\n",
    " 'ggplot',\n",
    " 'grayscale',\n",
    " 'seaborn-bright',\n",
    " 'seaborn-colorblind',\n",
    " 'seanorn-palette',\n",
    " 'seanorn-dark',\n",
    " 'seanorn-darkgrid',\n",
    " 'seanorn-deep',\n",
    " 'seanorn-muted',\n",
    " 'seanorn-notebook',\n",
    " 'seanorn-paper',\n",
    " 'seanorn-pastel',\n",
    " 'seanorn-poster',\n",
    " 'seanorn-talk',\n",
    " 'seanorn-ticks',\n",
    " 'seanorn-white',\n",
    " 'seanorn--whitegrid',\n",
    " 'seanorn',\n",
    " 'solarize-Light2',\n",
    " '_classic_test',]"
   ]
  },
  {
   "cell_type": "code",
   "execution_count": null,
   "metadata": {},
   "outputs": [],
   "source": [
    "# 如果要使用其中的某种样式，只要在程序开头加上这行代码即可\n",
    "plt.style.use(样式)"
   ]
  },
  {
   "cell_type": "code",
   "execution_count": null,
   "metadata": {},
   "outputs": [],
   "source": []
  }
 ],
 "metadata": {
  "kernelspec": {
   "display_name": "Python 3",
   "language": "python",
   "name": "python3"
  },
  "language_info": {
   "codemirror_mode": {
    "name": "ipython",
    "version": 3
   },
   "file_extension": ".py",
   "mimetype": "text/x-python",
   "name": "python",
   "nbconvert_exporter": "python",
   "pygments_lexer": "ipython3",
   "version": "3.7.3"
  }
 },
 "nbformat": 4,
 "nbformat_minor": 2
}
